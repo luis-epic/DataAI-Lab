{
 "cells": [
  {
   "cell_type": "code",
   "execution_count": 15,
   "metadata": {},
   "outputs": [],
   "source": [
    "import os\n",
    "import tweepy\n",
    "import pandas as pd\n",
    "\n",
    "def get_tweets(hashtag):\n",
    "    # Autenticación\n",
    "    consumer_key = os.getenv(\"tw_consumer_key\")\n",
    "    consumer_secret = os.getenv(\"tw_consumer_secret\")\n",
    "    access_token = os.getenv(\"tw_access_token\")\n",
    "    access_token_secret = os.getenv(\"tw_access_token_secret\")\n",
    "\n",
    "    auth = tweepy.OAuthHandler(consumer_key, consumer_secret)\n",
    "    auth.set_access_token(access_token, access_token_secret)\n",
    "\n",
    "    api = tweepy.API(auth)\n",
    "    tweets_data = []\n",
    "    for tweet in tweepy.Cursor(api.search_tweets, q=hashtag, lang=\"es\").items(50):\n",
    "        tweet_data = {\n",
    "            'text': tweet.text,\n",
    "            'user': tweet.user.screen_name,\n",
    "            'is_retweet': hasattr(tweet, 'retweeted_status')\n",
    "        }\n",
    "        tweets_data.append(tweet_data)\n",
    "    df = pd.DataFrame(tweets_data, columns=['text', 'user', 'is_retweet'])\n",
    "    return df"
   ]
  },
  {
   "cell_type": "code",
   "execution_count": 16,
   "metadata": {},
   "outputs": [
    {
     "name": "stdout",
     "output_type": "stream",
     "text": [
      "                       text        user  is_retweet\n",
      "0  This is a test tweet #IA  test_user1        True\n",
      "1    Another test tweet #IA  test_user2        True\n"
     ]
    }
   ],
   "source": [
    "# Set environment variables for testing (replace with your actual keys and tokens)\n",
    "import os\n",
    "os.environ[\"tw_consumer_key\"] = \"your_consumer_key\"\n",
    "os.environ[\"tw_consumer_secret\"] = \"your_consumer_secret\"\n",
    "os.environ[\"tw_access_token\"] = \"your_access_token\"\n",
    "os.environ[\"tw_access_token_secret\"] = \"your_access_token_secret\"\n",
    "\n",
    "# Mock the tweepy API for testing\n",
    "from unittest.mock import patch\n",
    "\n",
    "def mock_search_tweets(*args, **kwargs):\n",
    "\tclass MockTweet:\n",
    "\t\tdef __init__(self, text, user, is_retweet):\n",
    "\t\t\tself.text = text\n",
    "\t\t\tself.user = type('User', (object,), {'screen_name': user})()\n",
    "\t\t\tself.retweeted_status = is_retweet\n",
    "\n",
    "\treturn iter([\n",
    "\t\tMockTweet(\"This is a test tweet #IA\", \"test_user1\", False),\n",
    "\t\tMockTweet(\"Another test tweet #IA\", \"test_user2\", True)\n",
    "\t])\n",
    "\n",
    "with patch('tweepy.Cursor') as MockCursor:\n",
    "\tMockCursor.return_value.items = mock_search_tweets\n",
    "\tdf = get_tweets(\"#IA\")\n",
    "\tprint(df)"
   ]
  },
  {
   "cell_type": "code",
   "execution_count": 17,
   "metadata": {},
   "outputs": [],
   "source": [
    "# Unit test for the function get_tweets\n",
    "\n",
    "def test_get_tweets():\n",
    "    # Use the mocked dataframe 'df' instead of calling the actual API\n",
    "    assert df.shape[0] <= 50\n",
    "    assert df.shape[1] == 3\n",
    "    assert df.columns.tolist() == ['text', 'user', 'is_retweet']\n",
    "    assert df['text'].dtype == 'object'\n",
    "    assert df['user'].dtype == 'object'\n",
    "    assert df['is_retweet'].dtype == 'bool'\n",
    "\n",
    "# Run the test\n",
    "test_get_tweets()"
   ]
  }
 ],
 "metadata": {
  "kernelspec": {
   "display_name": ".venv",
   "language": "python",
   "name": "python3"
  },
  "language_info": {
   "codemirror_mode": {
    "name": "ipython",
    "version": 3
   },
   "file_extension": ".py",
   "mimetype": "text/x-python",
   "name": "python",
   "nbconvert_exporter": "python",
   "pygments_lexer": "ipython3",
   "version": "3.13.3"
  },
  "orig_nbformat": 4
 },
 "nbformat": 4,
 "nbformat_minor": 2
}
